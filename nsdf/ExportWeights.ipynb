{
 "cells": [
  {
   "cell_type": "code",
   "execution_count": 1,
   "metadata": {},
   "outputs": [],
   "source": [
    "import torch\n",
    "import models\n",
    "import numpy as np\n",
    "import mcubes\n",
    "import matplotlib.pyplot as plt"
   ]
  },
  {
   "cell_type": "code",
   "execution_count": 2,
   "metadata": {},
   "outputs": [],
   "source": [
    "model = torch.load(\"../monkj.model\")"
   ]
  },
  {
   "cell_type": "code",
   "execution_count": 3,
   "metadata": {},
   "outputs": [],
   "source": [
    "weights = [v.detach().numpy() for k, v in model.named_parameters() if \"weight\" in k]\n",
    "biases = [v.detach().numpy() for k, v in model.named_parameters() if \"bias\" in k]"
   ]
  },
  {
   "cell_type": "code",
   "execution_count": 4,
   "metadata": {},
   "outputs": [
    {
     "name": "stdout",
     "output_type": "stream",
     "text": [
      "(16, 32) (16,)\n",
      "(16, 16) (16,)\n",
      "(1, 16) (1,)\n"
     ]
    }
   ],
   "source": [
    "for w, b in zip(weights, biases):\n",
    "    print(w.shape, b.shape)"
   ]
  },
  {
   "cell_type": "code",
   "execution_count": 5,
   "metadata": {},
   "outputs": [
    {
     "name": "stdout",
     "output_type": "stream",
     "text": [
      "(3, 16) 0.46788183\n"
     ]
    }
   ],
   "source": [
    "fourier_layer = model.layers[0]\n",
    "assert isinstance(fourier_layer, models.FourierFeatures), \"Invalid model used.\"\n",
    "fourier_mapping = fourier_layer.fourier_mappings.detach().numpy()\n",
    "fourier_alpha = fourier_layer.alpha.detach().numpy()\n",
    "print(fourier_mapping.shape, fourier_alpha)"
   ]
  },
  {
   "cell_type": "code",
   "execution_count": 6,
   "metadata": {},
   "outputs": [],
   "source": [
    "def relu(x):\n",
    "    return (x > 0) * x"
   ]
  },
  {
   "cell_type": "code",
   "execution_count": 7,
   "metadata": {},
   "outputs": [],
   "source": [
    "def custom_forward(weights, biases, fourier_mapping, fourier_alpha, z):\n",
    "    x = z.copy()\n",
    "    x = np.matmul(2 * np.pi * x, fourier_mapping * fourier_alpha)\n",
    "    x = np.concatenate([np.sin(x), np.cos(x)], -1).T\n",
    "    print(x.shape)\n",
    "    for w, b in zip(weights[:-1], biases[:-1]):\n",
    "        x = np.dot(w, x) + b.reshape((-1, 1))\n",
    "        x = relu(x)\n",
    "    x = np.dot(weights[-1], x) + biases[-1].reshape((-1, 1))\n",
    "    return x"
   ]
  },
  {
   "cell_type": "code",
   "execution_count": 8,
   "metadata": {},
   "outputs": [
    {
     "name": "stdout",
     "output_type": "stream",
     "text": [
      "(32, 100)\n",
      "(100,) (100,)\n"
     ]
    }
   ],
   "source": [
    "N = 100\n",
    "x = np.random.random((N, 3)).astype('float32')\n",
    "y_custom = custom_forward(weights, biases, fourier_mapping, fourier_alpha, x).reshape(-1)\n",
    "y = model(torch.tensor(x)).detach().numpy().reshape(-1)\n",
    "print(y_custom.shape, y.shape)"
   ]
  },
  {
   "cell_type": "code",
   "execution_count": 9,
   "metadata": {},
   "outputs": [
    {
     "name": "stdout",
     "output_type": "stream",
     "text": [
      "[-0.10191108  0.7367834   0.36547217  0.4501231   0.20148337  0.730198\n",
      "  0.45255038  0.25594926  0.08322731  0.13753077]\n"
     ]
    }
   ],
   "source": [
    "print(y_custom[:10])"
   ]
  },
  {
   "cell_type": "code",
   "execution_count": 10,
   "metadata": {},
   "outputs": [
    {
     "name": "stdout",
     "output_type": "stream",
     "text": [
      "[-0.1019111   0.7367834   0.36547205  0.4501231   0.2014834   0.730198\n",
      "  0.45255038  0.2559492   0.08322728  0.13753083]\n"
     ]
    }
   ],
   "source": [
    "print(y[:10])"
   ]
  },
  {
   "cell_type": "code",
   "execution_count": 153,
   "metadata": {},
   "outputs": [],
   "source": [
    "with open(\"monkj_weights.txt\", \"w+\") as f:\n",
    "    # fourier vectors (3x16)\n",
    "    fourier = fourier_mapping * fourier_alpha\n",
    "    fourier = fourier.reshape(-1)\n",
    "    f.write(f\"{','.join([str(i) for i in fourier])}\\n\")\n",
    "\n",
    "    # input -> first layer (16x32) + bias (16x1)\n",
    "    w0, b0 = weights[0].reshape(-1), biases[0].reshape(-1)\n",
    "    l0 = np.hstack([w0, b0])\n",
    "    f.write(f\"{','.join([str(i) for i in l0])}\\n\")\n",
    "\n",
    "    # first layer -> second layer (16x16) + bias (16x1)\n",
    "    w1, b1 = weights[1].reshape(-1), biases[1].reshape(-1)\n",
    "    l1 = np.hstack([w1, b1])\n",
    "    f.write(f\"{','.join([str(i) for i in l1])}\\n\")\n",
    "\n",
    "    # second layer -> output (16x1) + bias (1x1)\n",
    "    w2, b2 = weights[2].reshape(-1), biases[2].reshape(-1)\n",
    "    l2 = np.hstack([w2, b2])\n",
    "    f.write(f\"{','.join([str(i) for i in l2])}\\n\")"
   ]
  },
  {
   "cell_type": "code",
   "execution_count": 11,
   "metadata": {},
   "outputs": [
    {
     "name": "stdout",
     "output_type": "stream",
     "text": [
      "[[-0.02349853  0.39764506 -0.5260776  -0.20327765 -0.10694765 -0.07671295\n",
      "  -0.84258777 -0.5155184   1.0241638   0.24054255  0.37238994 -0.21568038\n",
      "   0.9938353   0.50075865  0.21242084 -0.03669096]\n",
      " [ 0.67350215  0.21080692 -0.8645252   0.17587878 -0.47704843  0.11880753\n",
      "  -0.25094116  0.13399483  0.51107264 -0.20621534  0.29547423  0.3276528\n",
      "   0.3154978   0.26080543  0.22184876  0.6498949 ]\n",
      " [ 0.34839368 -0.1578471  -1.1771588   0.12724102  0.1503143   0.38558716\n",
      "  -0.0495448  -0.05548007 -0.40300295 -0.33807364 -0.1641675  -0.33305362\n",
      "  -0.01392652  0.14899871  0.3113187   0.0315331 ]]\n"
     ]
    }
   ],
   "source": [
    "print(fourier_mapping * fourier_alpha)"
   ]
  },
  {
   "cell_type": "code",
   "execution_count": null,
   "metadata": {},
   "outputs": [],
   "source": []
  }
 ],
 "metadata": {
  "kernelspec": {
   "display_name": "Python 3.8.10 ('MoodleAutomation')",
   "language": "python",
   "name": "python3"
  },
  "language_info": {
   "codemirror_mode": {
    "name": "ipython",
    "version": 3
   },
   "file_extension": ".py",
   "mimetype": "text/x-python",
   "name": "python",
   "nbconvert_exporter": "python",
   "pygments_lexer": "ipython3",
   "version": "3.8.10"
  },
  "orig_nbformat": 4,
  "vscode": {
   "interpreter": {
    "hash": "885e40b36e32fce2185cc13dfe364cd081e6a791774bcccaf774761c1afda626"
   }
  }
 },
 "nbformat": 4,
 "nbformat_minor": 2
}
