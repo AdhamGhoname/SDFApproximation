{
 "cells": [
  {
   "cell_type": "code",
   "execution_count": 1,
   "metadata": {},
   "outputs": [
    {
     "name": "stdout",
     "output_type": "stream",
     "text": [
      "Jupyter environment detected. Enabling Open3D WebVisualizer.\n",
      "[Open3D INFO] WebRTC GUI backend enabled.\n",
      "[Open3D INFO] WebRTCWindowSystem: HTTP handshake server disabled.\n"
     ]
    }
   ],
   "source": [
    "import numpy as np\n",
    "import mesh_to_sdf\n",
    "import trimesh\n",
    "from sklearn.linear_model import LinearRegression\n",
    "import matplotlib.pyplot as plt\n",
    "import tensorflow as tf\n",
    "import mcubes\n",
    "import open3d as o3d\n",
    "from Subdivision.Datastructures import Octree\n",
    "import yaml"
   ]
  },
  {
   "cell_type": "code",
   "execution_count": 2,
   "metadata": {},
   "outputs": [
    {
     "data": {
      "text/plain": [
       "TriangleMesh with 3229 points and 1149 triangles."
      ]
     },
     "execution_count": 2,
     "metadata": {},
     "output_type": "execute_result"
    }
   ],
   "source": [
    "mesh = o3d.io.read_triangle_mesh(\"../3DModels/monkj.obj\")\n",
    "bounds = mesh.get_axis_aligned_bounding_box()\n",
    "extent = np.max(bounds.get_extent(), axis=-1)\n",
    "mesh.scale(1. / extent, center=bounds.get_center())"
   ]
  },
  {
   "cell_type": "code",
   "execution_count": 3,
   "metadata": {},
   "outputs": [
    {
     "name": "stdout",
     "output_type": "stream",
     "text": [
      "-0.49999999999999994 0.49999999999999994\n"
     ]
    }
   ],
   "source": [
    "verts = np.array(mesh.vertices)\n",
    "print(verts.min(), verts.max())"
   ]
  },
  {
   "cell_type": "code",
   "execution_count": 4,
   "metadata": {},
   "outputs": [
    {
     "data": {
      "text/plain": [
       "0.49958255840195004"
      ]
     },
     "execution_count": 4,
     "metadata": {},
     "output_type": "execute_result"
    }
   ],
   "source": [
    "N = 250000\n",
    "pcd = mesh.sample_points_uniformly(N)\n",
    "pcd.colors = o3d.utility.Vector3dVector(np.random.uniform(0, 1, size=(N, 3)))\n",
    "np.array(pcd.points).max()\n",
    "#o3d.visualization.draw_geometries([pcd])"
   ]
  },
  {
   "cell_type": "code",
   "execution_count": 10,
   "metadata": {},
   "outputs": [
    {
     "name": "stdout",
     "output_type": "stream",
     "text": [
      "-0.4990366795288532 0.49929511679680794\n",
      "True\n"
     ]
    }
   ],
   "source": [
    "def subdivide(points, depth):\n",
    "    return True\n",
    "\n",
    "def drop(points, depth):\n",
    "    if depth <= 3 and points.shape[0] < 1000:\n",
    "        return True\n",
    "    return False\n",
    "\n",
    "# points = np.array([[-0.25, -0.25, -0.25],\n",
    "#                    [-0.25, -0.25, 0.25],\n",
    "#                    [-0.25, 0.25, -0.25],\n",
    "#                    [-0.25, 0.25, 0.25],\n",
    "#                    [0.25, -0.25, -0.25],\n",
    "#                    [0.25, -0.25, 0.25],\n",
    "#                    [0.25, 0.25, -0.25],\n",
    "#                    [0.365, 0.365, 0.365],\n",
    "#                    [0.365, 0.365, 0.24],\n",
    "#                    [0.365, 0.24, 0.365],\n",
    "#                    [0.365, 0.24, 0.24],\n",
    "#                    [0.24, 0.365, 0.365],\n",
    "#                    [0.24, 0.365, 0.24],\n",
    "#                    [0.24, 0.24, 0.365],\n",
    "#                    [0.24, 0.24, 0.24],])\n",
    "\n",
    "points = np.random.random((300, 3)) - 0.5\n",
    "print(points.min(), points.max())\n",
    "\n",
    "octree = Octree(origin = np.array([-.5, -.5, -.5]),\n",
    "                extents = np.array([1., 1., 1.]),\n",
    "                points = np.array(pcd.points),\n",
    "                max_depth = 3,\n",
    "                subdivide = subdivide,\n",
    "                drop = drop)\n",
    "octree.visualize(show_boxes=True, show_coordinate_frames=False, show_points=True)\n",
    "#print(octree.root_node.get_child_bounding_box(0))\n",
    "#print(octree.get_debug_string())\n",
    "print(octree.check_integrity())\n",
    "debug_dict = octree.get_debug_dict()\n",
    "with open(\"octree_monkj.yaml\", 'w+') as f:\n",
    "    yaml.dump(debug_dict, f)\n"
   ]
  },
  {
   "cell_type": "code",
   "execution_count": 6,
   "metadata": {},
   "outputs": [],
   "source": [
    "octree = o3d.geometry.Octree(max_depth=3)\n",
    "octree.convert_from_point_cloud(pcd, size_expand=0.01)\n",
    "box = o3d.geometry.TriangleMesh.create_coordinate_frame()\n",
    "#box.paint_uniform_color(np.array([1,0,0]))\n",
    "o3d.visualization.draw_geometries([box])"
   ]
  },
  {
   "cell_type": "code",
   "execution_count": 21,
   "metadata": {},
   "outputs": [],
   "source": [
    "bounds = []\n",
    "def f(n, ni, b=bounds):\n",
    "    if ni.depth == 3:\n",
    "        b.append(ni.origin)\n",
    "octree.traverse(f)"
   ]
  },
  {
   "cell_type": "code",
   "execution_count": 22,
   "metadata": {},
   "outputs": [],
   "source": [
    "bounds = np.array(bounds)\n",
    "bounds.shape\n",
    "bounds_pcd = o3d.geometry.PointCloud(o3d.utility.Vector3dVector(bounds))"
   ]
  },
  {
   "cell_type": "code",
   "execution_count": 8,
   "metadata": {},
   "outputs": [
    {
     "data": {
      "text/plain": [
       "array([2, 7, 3], dtype=int8)"
      ]
     },
     "execution_count": 8,
     "metadata": {},
     "output_type": "execute_result"
    }
   ],
   "source": [
    "points = np.array([[0.25, -0.25, 0.25],\n",
    "                   [-0.25, -0.25, -0.25],\n",
    "                   [0.25, -0.25, -0.25]])\n",
    "\n",
    "origin = np.array([-.5, -.5, -.5])\n",
    "extents = np.array([1., 1., 1.])\n",
    "index = np.zeros(points.shape[0]).astype('int8')\n",
    "mask = np.array(points <= (origin + extents / 2.)).astype('int8')\n",
    "\n",
    "for i in range(mask.shape[1]):\n",
    "    index = 2 * index + mask[:,i]\n",
    "index"
   ]
  },
  {
   "cell_type": "code",
   "execution_count": 11,
   "metadata": {},
   "outputs": [],
   "source": [
    "child_extents = extents / 2.\n",
    "child_origin = np.array([origin[i] + (0 if ((index[0] >> i) & 1) == 1 else child_extents[i]) for i in range(points.shape[1]-1, -1, -1)])"
   ]
  },
  {
   "cell_type": "code",
   "execution_count": 14,
   "metadata": {},
   "outputs": [
    {
     "data": {
      "text/plain": [
       "array([ 0. , -0.5,  0. ])"
      ]
     },
     "execution_count": 14,
     "metadata": {},
     "output_type": "execute_result"
    }
   ],
   "source": [
    "child_origin"
   ]
  },
  {
   "cell_type": "code",
   "execution_count": null,
   "metadata": {},
   "outputs": [],
   "source": []
  }
 ],
 "metadata": {
  "kernelspec": {
   "display_name": "Python 3.8.8 ('base')",
   "language": "python",
   "name": "python3"
  },
  "language_info": {
   "codemirror_mode": {
    "name": "ipython",
    "version": 3
   },
   "file_extension": ".py",
   "mimetype": "text/x-python",
   "name": "python",
   "nbconvert_exporter": "python",
   "pygments_lexer": "ipython3",
   "version": "3.8.8"
  },
  "orig_nbformat": 4,
  "vscode": {
   "interpreter": {
    "hash": "ad2bdc8ecc057115af97d19610ffacc2b4e99fae6737bb82f5d7fb13d2f2c186"
   }
  }
 },
 "nbformat": 4,
 "nbformat_minor": 2
}
