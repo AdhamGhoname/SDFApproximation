{
 "cells": [
  {
   "cell_type": "code",
   "execution_count": 1,
   "metadata": {},
   "outputs": [
    {
     "name": "stdout",
     "output_type": "stream",
     "text": [
      "Jupyter environment detected. Enabling Open3D WebVisualizer.\n",
      "[Open3D INFO] WebRTC GUI backend enabled.\n",
      "[Open3D INFO] WebRTCWindowSystem: HTTP handshake server disabled.\n"
     ]
    }
   ],
   "source": [
    "import numpy as np\n",
    "import mesh_to_sdf\n",
    "import trimesh\n",
    "from sklearn.linear_model import LinearRegression\n",
    "import matplotlib.pyplot as plt\n",
    "import tensorflow as tf\n",
    "import mcubes\n",
    "import open3d as o3d\n",
    "from Subdivision.Datastructures import Octree, OctreeNode\n",
    "import yaml\n",
    "from tqdm import tqdm\n",
    "import torch\n",
    "import sys\n",
    "sys.path.insert(0, '../')\n",
    "from nsdf.models import *"
   ]
  },
  {
   "cell_type": "code",
   "execution_count": 2,
   "metadata": {},
   "outputs": [
    {
     "data": {
      "text/plain": [
       "TriangleMesh with 3229 points and 1149 triangles."
      ]
     },
     "execution_count": 2,
     "metadata": {},
     "output_type": "execute_result"
    }
   ],
   "source": [
    "mesh = o3d.io.read_triangle_mesh(\"../3DModels/monkj.obj\")\n",
    "bounds = mesh.get_axis_aligned_bounding_box()\n",
    "extent = np.max(bounds.get_extent(), axis=-1)\n",
    "mesh.scale(1. / extent, center=bounds.get_center())"
   ]
  },
  {
   "cell_type": "code",
   "execution_count": 3,
   "metadata": {},
   "outputs": [
    {
     "name": "stdout",
     "output_type": "stream",
     "text": [
      "-0.49999999999999994 0.49999999999999994\n"
     ]
    }
   ],
   "source": [
    "verts = np.array(mesh.vertices)\n",
    "print(verts.min(), verts.max())"
   ]
  },
  {
   "cell_type": "code",
   "execution_count": 4,
   "metadata": {},
   "outputs": [
    {
     "data": {
      "text/plain": [
       "0.4992025904306532"
      ]
     },
     "execution_count": 4,
     "metadata": {},
     "output_type": "execute_result"
    }
   ],
   "source": [
    "N = 250000\n",
    "pcd = mesh.sample_points_uniformly(N)\n",
    "pcd.colors = o3d.utility.Vector3dVector(np.random.uniform(0, 1, size=(N, 3)))\n",
    "np.array(pcd.points).max()\n",
    "#o3d.visualization.draw_geometries([pcd])"
   ]
  },
  {
   "cell_type": "code",
   "execution_count": 5,
   "metadata": {},
   "outputs": [
    {
     "name": "stdout",
     "output_type": "stream",
     "text": [
      "-0.49970825481711567 0.49913057182560117\n",
      "60864.0 3182080.0 1145343.4128440367 647489.5469045822\n",
      "-1.674898719258941 3.145589912443959\n"
     ]
    }
   ],
   "source": [
    "def subdivide(points, depth):\n",
    "    return True\n",
    "\n",
    "def drop(points, depth):\n",
    "    MEAN = 992058.9606299213\n",
    "    STD = 706475.1765405646\n",
    "    volume = (1. / 2**depth) ** 3\n",
    "    density = points.shape[0] / volume\n",
    "    z = (density - MEAN) / STD\n",
    "    if z < -1.32:\n",
    "        return True\n",
    "    return False\n",
    "\n",
    "points = np.random.random((300, 3)) - 0.5\n",
    "print(points.min(), points.max())\n",
    "\n",
    "octree = Octree(origin = np.array([-.5, -.5, -.5]),\n",
    "                extents = np.array([1., 1., 1.]),\n",
    "                points = np.array(pcd.points),\n",
    "                max_depth = 3,\n",
    "                subdivide = subdivide,\n",
    "                drop = drop)\n",
    "octree.visualize(show_boxes=False, show_coordinate_frames=True, show_points=True)\n",
    "#print(octree.root_node.get_child_bounding_box(0))\n",
    "#print(octree.get_debug_string())\n",
    "densities = [node.points.shape[0] / node.extents[0]**3 for node in octree.get_all_leaf_nodes()]\n",
    "densities.sort()\n",
    "densities = np.array(densities)\n",
    "print(densities.min(), densities.max(), densities.mean(), densities.std())\n",
    "z_scores = (densities - densities.mean()) / densities.std()\n",
    "print(z_scores.min(), z_scores.max())\n",
    "#densities\n"
   ]
  },
  {
   "cell_type": "code",
   "execution_count": 6,
   "metadata": {},
   "outputs": [
    {
     "name": "stdout",
     "output_type": "stream",
     "text": [
      "(10000000, 3) (10000000,)\n"
     ]
    }
   ],
   "source": [
    "t_mesh = o3d.t.geometry.TriangleMesh.from_legacy(mesh)\n",
    "\n",
    "scene = o3d.t.geometry.RaycastingScene()\n",
    "_ = scene.add_triangles(t_mesh)\n",
    "\n",
    "\n",
    "min_bound = t_mesh.vertex['positions'].min(0).numpy()\n",
    "max_bound = t_mesh.vertex['positions'].max(0).numpy()\n",
    "\n",
    "N = 10_000_000\n",
    "SURFACE_TO_UNIFORM_RATIO = 2\n",
    "PURTURB_AMOUNT = 0.005\n",
    "\n",
    "uniform_sample = np.random.uniform(low=min_bound, high=max_bound,\n",
    "                                 size=[int(N / SURFACE_TO_UNIFORM_RATIO), 3]).astype(np.float32)\n",
    "\n",
    "surface_purturbed_points = np.array(mesh.sample_points_uniformly(N - uniform_sample.shape[0]).points).astype(np.float32)\n",
    "surface_purturbed_points += np.random.normal(loc=0, scale=PURTURB_AMOUNT, size=surface_purturbed_points.shape).astype(np.float32)\n",
    "\n",
    "points = np.concatenate([surface_purturbed_points, uniform_sample])\n",
    "np.random.shuffle(points)\n",
    "signed_distance = scene.compute_signed_distance(points).numpy()\n",
    "print(points.shape, signed_distance.shape)"
   ]
  },
  {
   "cell_type": "code",
   "execution_count": 7,
   "metadata": {},
   "outputs": [
    {
     "data": {
      "text/plain": [
       "(array([False,  True]), array([   1460, 9998540], dtype=int64))"
      ]
     },
     "execution_count": 7,
     "metadata": {},
     "output_type": "execute_result"
    }
   ],
   "source": [
    "np.unique(octree.root_node.occupancy(points), return_counts=True)"
   ]
  },
  {
   "cell_type": "code",
   "execution_count": 8,
   "metadata": {},
   "outputs": [
    {
     "data": {
      "text/plain": [
       "(3646332, 3)"
      ]
     },
     "execution_count": 8,
     "metadata": {},
     "output_type": "execute_result"
    }
   ],
   "source": [
    "inside_points = points[signed_distance <= 0]\n",
    "inside_points.shape"
   ]
  },
  {
   "cell_type": "code",
   "execution_count": 9,
   "metadata": {},
   "outputs": [],
   "source": [
    "inside_pcd = o3d.geometry.PointCloud(o3d.utility.Vector3dVector(inside_points))\n",
    "o3d.visualization.draw_geometries([inside_pcd])"
   ]
  },
  {
   "cell_type": "code",
   "execution_count": 10,
   "metadata": {},
   "outputs": [],
   "source": [
    "voxels = []\n",
    "leaf_nodes = octree.get_all_leaf_nodes()\n",
    "for node in leaf_nodes:\n",
    "    inside = node.occupancy(points)\n",
    "    node_points = points[inside]\n",
    "    dists = signed_distance[inside]\n",
    "    voxels.append((OctreeNode(node.origin,\n",
    "                             node.extents,\n",
    "                             node_points,\n",
    "                             node.path),\n",
    "                             dists))"
   ]
  },
  {
   "cell_type": "code",
   "execution_count": 11,
   "metadata": {},
   "outputs": [
    {
     "data": {
      "text/plain": [
       "109"
      ]
     },
     "execution_count": 11,
     "metadata": {},
     "output_type": "execute_result"
    }
   ],
   "source": [
    "len(voxels)"
   ]
  },
  {
   "cell_type": "code",
   "execution_count": 12,
   "metadata": {},
   "outputs": [],
   "source": [
    "index = 1#np.random.randint(0, len(voxels)-1)\n",
    "points_shape = leaf_nodes[index].points\n",
    "points_sampled = voxels[index][0].points\n",
    "pcd_shape = o3d.geometry.PointCloud(o3d.utility.Vector3dVector(points_shape))\n",
    "pcd_sample = o3d.geometry.PointCloud(o3d.utility.Vector3dVector(points_sampled))\n",
    "\n",
    "pcd.paint_uniform_color(np.array([0, 0, 1]))\n",
    "\n",
    "\n",
    "red = np.tile(np.array([1, 0, 0]), (points_sampled.shape[0], 1))\n",
    "green = np.tile(np.array([0, 1, 0]), (points_sampled.shape[0], 1))\n",
    "\n",
    "colors = np.where(np.expand_dims(voxels[index][1] < 0, -1), green, red)\n",
    "\n",
    "pcd_sample.colors = o3d.utility.Vector3dVector(colors)\n",
    "geometries = []\n",
    "#geometries += [pcd_shape]\n",
    "geometries += [pcd]\n",
    "geometries += [pcd_sample]\n",
    "\n",
    "o3d.visualization.draw_geometries(geometries)"
   ]
  },
  {
   "cell_type": "code",
   "execution_count": 13,
   "metadata": {},
   "outputs": [],
   "source": [
    "# def get_model(size, embedding_size, hidden_layers):\n",
    "#     device = torch.device(\"cpu:0\")\n",
    "#     model = SDFDNN(\n",
    "#         size,\n",
    "#         embedding_size,\n",
    "#         hidden_layers=hidden_layers,\n",
    "#         activation_type='relu',\n",
    "#     ).to(device)\n",
    "\n",
    "#     return device, model\n",
    "\n",
    "# def train_model(model, device, X, y, epochs=100, batch_size=512, shuffle_after_each_epoch=False):\n",
    "#     def get_batch(index):\n",
    "#         index %= (X.shape[0] + batch_size - 1) // batch_size\n",
    "#         start = min(index*batch_size, X.shape[0])\n",
    "#         end = min((index+1)*batch_size, X.shape[0])\n",
    "#         return X[start:end], y[start:end]\n",
    "\n",
    "#     def shuffle_data(X, y):\n",
    "#         index = np.arange(X.shape[0])\n",
    "#         np.random.shuffle(index)\n",
    "#         X = X[index]\n",
    "#         y = y[index]\n",
    "    \n",
    "#     loss_fn = torch.nn.MSELoss()\n",
    "#     optimizer = torch.optim.Adam(model.parameters(), lr=1e-6)\n",
    "#     scheduler = torch.optim.lr_scheduler.ExponentialLR(optimizer, gamma=0.1)\n",
    "\n",
    "#     for _ in tqdm(range(1, epochs+1)):\n",
    "#         for i in range((X.shape[0] + batch_size - 1) // batch_size):\n",
    "#             inputs, targets = get_batch(i + 1)\n",
    "#             inputs = torch.Tensor(inputs).to(device)\n",
    "#             targets = torch.Tensor(targets).to(device).unsqueeze(1)\n",
    "\n",
    "#             predictions = model(inputs)\n",
    "#             loss = torch.mean(loss_fn(predictions, targets))\n",
    "\n",
    "#             # Backpropagation.\n",
    "#             optimizer.zero_grad()\n",
    "#             loss.backward()\n",
    "#             optimizer.step()\n",
    "\n",
    "#             # Update LR scheduler.\n",
    "#             if i % (epochs // 3) == 0:\n",
    "#                 scheduler.step()\n",
    "            \n",
    "#             if shuffle_after_each_epoch:\n",
    "#                 shuffle_data(X, y)\n",
    "#     print(f\"Finished Training Model...MSE={loss.item():.6f}\")\n"
   ]
  },
  {
   "cell_type": "code",
   "execution_count": 14,
   "metadata": {},
   "outputs": [],
   "source": [
    "class NeuralSDFModel(tf.keras.Model):\n",
    "    def __init__(self, fourier_features_size, hidden_layer_size, hidden_layer_count):\n",
    "        super(NeuralSDFModel, self).__init__()\n",
    "        self.fourier_features_mapping = tf.random.normal((3, fourier_features_size))\n",
    "        self.fourier_alpha = tf.Variable(1.0)\n",
    "        self.hidden_layers = [tf.keras.layers.Dense(hidden_layer_size, activation=\"relu\") for _ in range(hidden_layer_count)]\n",
    "        self.output_layer = tf.keras.layers.Dense(1)\n",
    "    \n",
    "    def call(self, x):\n",
    "        x = tf.matmul(2 * tf.constant(np.pi) * x, self.fourier_features_mapping * self.fourier_alpha)\n",
    "        for d in self.hidden_layers:\n",
    "            x = d(x)\n",
    "        return self.output_layer(x)"
   ]
  },
  {
   "cell_type": "code",
   "execution_count": 15,
   "metadata": {},
   "outputs": [
    {
     "name": "stderr",
     "output_type": "stream",
     "text": [
      "100%|██████████| 545000/545000 [2:23:53<00:00, 63.13it/s, loss=0.000506]  \n"
     ]
    }
   ],
   "source": [
    "EPOCHS = 5000\n",
    "RESCALE = True\n",
    "CENTER_AT_ORIGIN = True\n",
    "models = []\n",
    "\n",
    "class TQDMCallback(tf.keras.callbacks.Callback):\n",
    "    def __init__(self, pbar):\n",
    "        self.pbar = pbar\n",
    "        self.total_loss = 0\n",
    "        self.epoch_count = 0\n",
    "    \n",
    "    def on_epoch_end(self, epoch, logs=None):\n",
    "        self.pbar.update(1)\n",
    "        if self.epoch_count > 0:\n",
    "            self.pbar.set_postfix({'loss': self.total_loss / self.epoch_count})\n",
    "        self.total_loss += logs['loss']\n",
    "        self.epoch_count += 1\n",
    "\n",
    "\n",
    "with tqdm(total=EPOCHS*len(voxels)) as pbar:\n",
    "    def increment():\n",
    "        pbar.update(1)\n",
    "    for i, (node, dists) in enumerate(voxels):\n",
    "        points = node.points\n",
    "        if RESCALE:\n",
    "            points = node.points\n",
    "            points -= node.origin\n",
    "            points /= node.extents\n",
    "            dists /= node.extents.max()\n",
    "            if CENTER_AT_ORIGIN:\n",
    "                points -= 0.5\n",
    "        \n",
    "        #print(f\"Training model #{i+1} out of {len(voxels)}...\")\n",
    "        model = NeuralSDFModel(8, 8, 2)\n",
    "        model.compile(optimizer='adam', loss='MSE', metrics=['MSE'])\n",
    "        model.fit(points, dists, epochs=EPOCHS, batch_size=4096, verbose=0, callbacks=[TQDMCallback(pbar)])\n",
    "        #print(model.evaluate(points, dists))\n",
    "        #train_model(model, device, points, dists, EPOCHS, 512, shuffle_after_each_epoch=False)\n",
    "        \n",
    "        models.append(model)"
   ]
  },
  {
   "cell_type": "code",
   "execution_count": 20,
   "metadata": {},
   "outputs": [
    {
     "name": "stderr",
     "output_type": "stream",
     "text": [
      "100%|██████████| 109/109 [01:11<00:00,  1.51it/s]\n"
     ]
    }
   ],
   "source": [
    "points_pred = np.random.random(size=(10000_000, 3)) - 0.5\n",
    "points_shape = np.zeros((0, 3))\n",
    "for i, (node, _) in enumerate(tqdm(voxels)):\n",
    "    points_inside = points_pred[node.occupancy(points_pred)]\n",
    "    if RESCALE:\n",
    "        points -= node.origin\n",
    "        points /= node.extents\n",
    "        if CENTER_AT_ORIGIN:\n",
    "            points -= 0.5 \n",
    "    dists = models[i].predict(points_inside).reshape(-1)\n",
    "    pp = points_inside[dists < 0]\n",
    "    points_shape = np.vstack([points_shape, pp])"
   ]
  },
  {
   "cell_type": "code",
   "execution_count": 21,
   "metadata": {},
   "outputs": [],
   "source": [
    "pred_pcd = o3d.geometry.PointCloud(o3d.utility.Vector3dVector(points_shape))\n",
    "o3d.visualization.draw_geometries([pred_pcd])"
   ]
  },
  {
   "cell_type": "code",
   "execution_count": null,
   "metadata": {},
   "outputs": [],
   "source": []
  }
 ],
 "metadata": {
  "kernelspec": {
   "display_name": "Python 3.8.8 ('base')",
   "language": "python",
   "name": "python3"
  },
  "language_info": {
   "codemirror_mode": {
    "name": "ipython",
    "version": 3
   },
   "file_extension": ".py",
   "mimetype": "text/x-python",
   "name": "python",
   "nbconvert_exporter": "python",
   "pygments_lexer": "ipython3",
   "version": "3.8.8"
  },
  "orig_nbformat": 4,
  "vscode": {
   "interpreter": {
    "hash": "ad2bdc8ecc057115af97d19610ffacc2b4e99fae6737bb82f5d7fb13d2f2c186"
   }
  }
 },
 "nbformat": 4,
 "nbformat_minor": 2
}
